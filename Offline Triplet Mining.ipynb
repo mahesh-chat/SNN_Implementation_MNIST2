{
 "cells": [
  {
   "cell_type": "code",
   "execution_count": 1,
   "metadata": {
    "colab": {
     "base_uri": "https://localhost:8080/",
     "height": 35
    },
    "colab_type": "code",
    "id": "4E6B7BbMyfbj",
    "outputId": "7b7cb4eb-cde5-4803-9296-688683c9666c"
   },
   "outputs": [],
   "source": [
    "import keras as k\n",
    "import keras.backend as K\n",
    "import numpy as np \n",
    "from keras.layers import *\n",
    "from keras.models import Sequential, Model\n",
    "from keras.regularizers import l2\n",
    "import matplotlib.pyplot as plt\n",
    "from keras.optimizers import Adam, Adadelta\n",
    "from keras.applications.resnet50 import ResNet50, preprocess_input\n",
    "from keras.callbacks import ModelCheckpoint, EarlyStopping"
   ]
  },
  {
   "cell_type": "code",
   "execution_count": 2,
   "metadata": {
    "colab": {},
    "colab_type": "code",
    "id": "4iKIAgpsyh28"
   },
   "outputs": [],
   "source": [
    "(x_train_master, y_train_master), (x_test_master, y_test_master) = k.datasets.fashion_mnist.load_data()\n",
    "x_train_master = x_train_master /  255\n",
    "x_test_master = x_test_master / 255"
   ]
  },
  {
   "cell_type": "code",
   "execution_count": 3,
   "metadata": {
    "colab": {},
    "colab_type": "code",
    "id": "YHIP6vvaMguk"
   },
   "outputs": [],
   "source": [
    "x_train_master = np.expand_dims(x_train_master, 3)\n",
    "x_test_master = np.expand_dims(x_test_master, 3)"
   ]
  },
  {
   "cell_type": "code",
   "execution_count": 4,
   "metadata": {
    "colab": {
     "base_uri": "https://localhost:8080/",
     "height": 35
    },
    "colab_type": "code",
    "id": "YH1ibN4xNpFy",
    "outputId": "e2b96d17-cc5d-4137-c98b-36e32b1151b1"
   },
   "outputs": [
    {
     "data": {
      "text/plain": [
       "(60000, 28, 28, 1)"
      ]
     },
     "execution_count": 4,
     "metadata": {},
     "output_type": "execute_result"
    }
   ],
   "source": [
    "x_train_master.shape"
   ]
  },
  {
   "cell_type": "code",
   "execution_count": 5,
   "metadata": {
    "colab": {},
    "colab_type": "code",
    "id": "hj-jCtea2Tdh"
   },
   "outputs": [],
   "source": [
    "y_train_master = y_train_master.flatten()\n",
    "y_test_master = y_test_master.flatten()"
   ]
  },
  {
   "cell_type": "code",
   "execution_count": 6,
   "metadata": {
    "colab": {},
    "colab_type": "code",
    "id": "m3y6vlC5Q8ZE"
   },
   "outputs": [],
   "source": [
    "num_train_per_class = 1\n",
    "n_epochs = 10"
   ]
  },
  {
   "cell_type": "code",
   "execution_count": 7,
   "metadata": {
    "colab": {},
    "colab_type": "code",
    "id": "lDG4HjBDz2sm"
   },
   "outputs": [],
   "source": [
    "def generate_triplets(dataset, label, sample_per_class=10):\n",
    "  x, y = None, None\n",
    "  for i in range(10):\n",
    "    pos_indices = np.argwhere(label == i)[:,0]\n",
    "    neg_indices = np.argwhere(label != i)[:,0]\n",
    "    \n",
    "    choice_anchor = np.random.choice(pos_indices.shape[0], sample_per_class, replace=False)\n",
    "    choice_anchor = pos_indices[choice_anchor]\n",
    "\n",
    "    choice_pos = np.random.choice(pos_indices.shape[0], sample_per_class, replace=False)\n",
    "    choice_pos = pos_indices[choice_pos]\n",
    "\n",
    "    choice_neg = np.random.choice(neg_indices.shape[0], sample_per_class, replace=False)\n",
    "    choice_neg = neg_indices[choice_neg]\n",
    "\n",
    "    sub_x_anc = dataset[choice_anchor]\n",
    "    \n",
    "    sub_x_pos = dataset[choice_pos]\n",
    "\n",
    "    sub_x_neg = dataset[choice_neg]\n",
    "      \n",
    "        \n",
    "    if(x is None):\n",
    "      x = [(sub_x_anc), (sub_x_pos), (sub_x_neg)]\n",
    "      y = [label[choice_anchor], label[choice_pos], label[choice_neg]]\n",
    "    else:\n",
    "      x[0] = np.vstack((x[0], (sub_x_anc)))\n",
    "      x[1] = np.vstack((x[1], (sub_x_pos)))\n",
    "      x[2] = np.vstack((x[2], (sub_x_neg)))\n",
    "\n",
    "      y[0] = np.hstack((y[0].flatten(), label[choice_anchor].flatten()))\n",
    "      y[1] = np.hstack((y[1].flatten(), label[choice_pos].flatten()))\n",
    "      y[2] = np.hstack((y[2].flatten(), label[choice_neg].flatten()))\n",
    "    \n",
    "  return x, y"
   ]
  },
  {
   "cell_type": "code",
   "execution_count": 8,
   "metadata": {
    "colab": {},
    "colab_type": "code",
    "id": "gaC17fTD2EOz"
   },
   "outputs": [],
   "source": [
    "train_x, train_y = generate_triplets(x_train_master, y_train_master)"
   ]
  },
  {
   "cell_type": "code",
   "execution_count": 9,
   "metadata": {
    "colab": {
     "base_uri": "https://localhost:8080/",
     "height": 35
    },
    "colab_type": "code",
    "id": "994sxCFpN1M_",
    "outputId": "211c5e9e-9ad5-467c-b1d9-ce6c4d17f81f"
   },
   "outputs": [
    {
     "data": {
      "text/plain": [
       "(100, 28, 28, 1)"
      ]
     },
     "execution_count": 9,
     "metadata": {},
     "output_type": "execute_result"
    }
   ],
   "source": [
    "train_x[0].shape"
   ]
  },
  {
   "cell_type": "code",
   "execution_count": 10,
   "metadata": {
    "colab": {},
    "colab_type": "code",
    "id": "gTQSvPXV2e48"
   },
   "outputs": [],
   "source": [
    "def visualize_data(data, n):\n",
    "  n = min(len(data[0]), n)\n",
    "  random_choices = np.random.choice(len(data[0]),n, replace=False)\n",
    "  fig, ax = plt.subplots(n, 3,figsize=(10,40))\n",
    "  anc, pos, neg = data\n",
    "  for i,ch in enumerate(random_choices):\n",
    "    ax[i, 0].imshow(np.squeeze(anc[ch] ))\n",
    "    ax[i, 1].imshow(np.squeeze(pos[ch] ))\n",
    "    ax[i, 2].imshow(np.squeeze(neg[ch] ))\n",
    "    \n",
    "\n",
    "    ax[i, 0].set_axis_off()\n",
    "    ax[i, 1].set_axis_off()\n",
    "    ax[i, 2].set_axis_off()"
   ]
  },
  {
   "cell_type": "code",
   "execution_count": 11,
   "metadata": {
    "colab": {
     "base_uri": "https://localhost:8080/",
     "height": 1000
    },
    "colab_type": "code",
    "id": "NsEkl0Zx3pyN",
    "outputId": "7f058fcf-944e-4012-b7a2-a3258cea22e6"
   },
   "outputs": [
    {
     "data": {
      "image/png": "[encoded data removed]",
      "text/plain": [
       "<Figure size 720x2880 with 30 Axes>"
      ]
     },
     "metadata": {
      "needs_background": "light"
     },
     "output_type": "display_data"
    }
   ],
   "source": [
    "visualize_data(train_x, 10)"
   ]
  },
  {
   "cell_type": "code",
   "execution_count": 12,
   "metadata": {
    "colab": {},
    "colab_type": "code",
    "id": "sj89cO8g5997"
   },
   "outputs": [],
   "source": [
    "train_x, train_y = generate_triplets(x_train_master, y_train_master, num_train_per_class)\n",
    "test_x, test_y = generate_triplets(x_test_master, y_test_master,5)"
   ]
  },
  {
   "cell_type": "code",
   "execution_count": 13,
   "metadata": {
    "colab": {},
    "colab_type": "code",
    "id": "YriH-06myvL4"
   },
   "outputs": [],
   "source": [
    "def triplet_loss(inputs, dist='sqeuclidean', margin='maxplus'):\n",
    "    anchor, positive, negative = inputs\n",
    "    positive_distance = K.square(anchor - positive)\n",
    "    negative_distance = K.square(anchor - negative)\n",
    "    if dist == 'euclidean':\n",
    "        positive_distance = K.sqrt(K.sum(positive_distance, axis=-1, keepdims=True))\n",
    "        negative_distance = K.sqrt(K.sum(negative_distance, axis=-1, keepdims=True))\n",
    "    elif dist == 'sqeuclidean':\n",
    "        positive_distance = K.sum(positive_distance, axis=-1, keepdims=True)\n",
    "        negative_distance = K.sum(negative_distance, axis=-1, keepdims=True)\n",
    "    loss = positive_distance - negative_distance\n",
    "    if margin == 'maxplus':\n",
    "        loss = K.maximum(0.0, 1 + loss)\n",
    "    elif margin == 'softplus':\n",
    "        loss = K.log(1 + K.exp(loss))\n",
    "    return K.mean(loss)\n",
    "\n",
    "def get_embedding_model(input_shape, embedding_dim):\n",
    "    _input = Input(shape=input_shape)\n",
    "    x = Flatten()(_input)\n",
    "    x = Dense(embedding_dim * 4,activation=\"relu\")(x)\n",
    "    x = Dense(embedding_dim * 2, activation='relu')(x)\n",
    "    x = Dense(embedding_dim)(x)\n",
    "    return Model(_input, x)\n",
    "        \n",
    "\n",
    "def get_siamese_model(input_shape, triplet_margin=.3, embedding_dim=50):\n",
    "\n",
    "    # Define the tensors for the triplet of input images\n",
    "    anchor_input = Input(input_shape, name=\"anchor_input\")\n",
    "    positive_input = Input(input_shape, name=\"positive_input\")\n",
    "    negative_input = Input(input_shape, name=\"negative_input\")\n",
    "    \n",
    "    # Convolutional Neural Network (same from earlier)\n",
    "    embedding_model = get_embedding_model(input_shape, embedding_dim)\n",
    "    \n",
    "    # Generate the embedding outputs \n",
    "    encoded_anchor = embedding_model(anchor_input)\n",
    "    encoded_positive = embedding_model(positive_input)\n",
    "    encoded_negative = embedding_model(negative_input)\n",
    "    \n",
    "    inputs = [anchor_input, positive_input, negative_input]\n",
    "    outputs = [encoded_anchor, encoded_positive, encoded_negative]\n",
    "    \n",
    "    # Connect the inputs with the outputs\n",
    "    siamese_triplet = Model(inputs=inputs,outputs=outputs)\n",
    "    \n",
    "    siamese_triplet.add_loss((triplet_loss(outputs, dist='euclidean', margin='maxplus')))\n",
    "    \n",
    "    # return the model\n",
    "    return embedding_model, siamese_triplet"
   ]
  },
  {
   "cell_type": "markdown",
   "metadata": {
    "colab_type": "text",
    "id": "8wbDFosCUIKN"
   },
   "source": [
    "# Siamese NN trained on 9 classes\n"
   ]
  },
  {
   "cell_type": "code",
   "execution_count": 33,
   "metadata": {
    "colab": {
     "base_uri": "https://localhost:8080/",
     "height": 184
    },
    "colab_type": "code",
    "id": "kYiBhALJyv_q",
    "outputId": "98a69817-7b00-4a78-9e19-6cd27a09fdc5"
   },
   "outputs": [],
   "source": [
    "embedding_model, siamese_triplet = get_siamese_model((28,28,1), triplet_margin=.3, embedding_dim=150)\n",
    "siamese_triplet.compile(loss=None, optimizer=Adam(0.0001))"
   ]
  },
  {
   "cell_type": "code",
   "execution_count": 34,
   "metadata": {
    "colab": {
     "base_uri": "https://localhost:8080/",
     "height": 551
    },
    "colab_type": "code",
    "id": "gLBgXEdi50_K",
    "outputId": "ed5c3a8a-8788-4ee1-816d-5179d748e88f"
   },
   "outputs": [
    {
     "name": "stdout",
     "output_type": "stream",
     "text": [
      "Epoch 1/10\n",
      "1/1 [==============================] - 0s 328ms/step - loss: 1.0711 - val_loss: 0.0000e+00\n",
      "Epoch 2/10\n",
      "1/1 [==============================] - 0s 36ms/step - loss: 0.8119 - val_loss: 0.0000e+00\n",
      "Epoch 3/10\n",
      "1/1 [==============================] - 0s 29ms/step - loss: 0.5829 - val_loss: 0.0000e+00\n",
      "Epoch 4/10\n",
      "1/1 [==============================] - 0s 35ms/step - loss: 0.4175 - val_loss: 0.0000e+00\n",
      "Epoch 5/10\n",
      "1/1 [==============================] - 0s 47ms/step - loss: 0.2781 - val_loss: 0.0000e+00\n",
      "Epoch 6/10\n",
      "1/1 [==============================] - 0s 42ms/step - loss: 0.1621 - val_loss: 0.0000e+00\n",
      "Epoch 7/10\n",
      "1/1 [==============================] - 0s 53ms/step - loss: 0.0797 - val_loss: 0.0000e+00\n",
      "Epoch 8/10\n",
      "1/1 [==============================] - 0s 50ms/step - loss: 0.0074 - val_loss: 0.0000e+00\n",
      "Epoch 9/10\n",
      "1/1 [==============================] - 0s 46ms/step - loss: 0.0000e+00 - val_loss: 0.0000e+00\n",
      "Epoch 10/10\n",
      "1/1 [==============================] - 0s 45ms/step - loss: 0.0000e+00 - val_loss: 0.0000e+00\n"
     ]
    }
   ],
   "source": [
    "history = siamese_triplet.fit(x=train_x, shuffle=True, batch_size=1000,\n",
    "                              validation_split=.1, epochs=n_epochs)"
   ]
  },
  {
   "cell_type": "code",
   "execution_count": null,
   "metadata": {
    "colab": {},
    "colab_type": "code",
    "id": "GqdS6VCd6gcU"
   },
   "outputs": [],
   "source": [
    "train_embeds = embedding_model.predict(np.vstack((train_x[0], train_x[1], train_x[2])))"
   ]
  },
  {
   "cell_type": "code",
   "execution_count": 40,
   "metadata": {
    "colab": {},
    "colab_type": "code",
    "id": "a3Vwc7vP8Wbo"
   },
   "outputs": [],
   "source": [
    "target = np.hstack((train_y[0], train_y[1], train_y[2]))"
   ]
  },
  {
   "cell_type": "code",
   "execution_count": 41,
   "metadata": {
    "colab": {},
    "colab_type": "code",
    "id": "p8ZHvAx374zd"
   },
   "outputs": [],
   "source": [
    "from sklearn.neighbors import KNeighborsClassifier\n",
    "def fit_nearest_neighbor(img_encoding, img_class, algorithm='ball_tree'):\n",
    "  classifier = KNeighborsClassifier(n_neighbors=3, algorithm=algorithm)\n",
    "  classifier.fit(img_encoding, img_class)\n",
    "  return classifier"
   ]
  },
  {
   "cell_type": "code",
   "execution_count": 42,
   "metadata": {
    "colab": {},
    "colab_type": "code",
    "id": "rGSPnb9i8T_O"
   },
   "outputs": [],
   "source": [
    "classifier = fit_nearest_neighbor(train_embeds, target)"
   ]
  },
  {
   "cell_type": "code",
   "execution_count": 43,
   "metadata": {
    "colab": {},
    "colab_type": "code",
    "id": "WSaWvVOj8iEl"
   },
   "outputs": [],
   "source": [
    "e = embedding_model.predict(x_test_master)\n",
    "op = classifier.predict(e)"
   ]
  },
  {
   "cell_type": "code",
   "execution_count": 44,
   "metadata": {
    "colab": {
     "base_uri": "https://localhost:8080/",
     "height": 35
    },
    "colab_type": "code",
    "id": "rzmTDKWN8mSE",
    "outputId": "f1803173-3545-4a9c-9837-436dc4259866"
   },
   "outputs": [
    {
     "data": {
      "text/plain": [
       "0.4954"
      ]
     },
     "execution_count": 44,
     "metadata": {},
     "output_type": "execute_result"
    }
   ],
   "source": [
    "(np.where(y_test_master == op))[0].shape[0] / y_test_master.shape[0]"
   ]
  }
 ],
 "metadata": {
  "accelerator": "GPU",
  "colab": {
   "collapsed_sections": [],
   "include_colab_link": true,
   "name": "Siamese - Fashion Mnist.ipynb",
   "provenance": [],
   "toc_visible": true
  },
  "kernelspec": {
   "display_name": "Python 3",
   "language": "python",
   "name": "python3"
  },
  "language_info": {
   "codemirror_mode": {
    "name": "ipython",
    "version": 3
   },
   "file_extension": ".py",
   "mimetype": "text/x-python",
   "name": "python",
   "nbconvert_exporter": "python",
   "pygments_lexer": "ipython3",
   "version": "3.8.8"
  }
 },
 "nbformat": 4,
 "nbformat_minor": 1
}
