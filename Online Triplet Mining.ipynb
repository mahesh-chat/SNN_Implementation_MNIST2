{
 "cells": [
  {
   "cell_type": "markdown",
   "metadata": {
    "colab_type": "text",
    "id": "view-in-github"
   },
   "source": [
    "<a href=\"https://colab.research.google.com/github/eroj333/learning-cv-ml/blob/master/SNN/Online%20Triplet%20Mining.ipynb\" target=\"_parent\"><img src=\"https://colab.research.google.com/assets/colab-badge.svg\" alt=\"Open In Colab\"/></a>"
   ]
  },
  {
   "cell_type": "code",
   "execution_count": 0,
   "metadata": {
    "colab": {
     "base_uri": "https://localhost:8080/",
     "height": 35
    },
    "colab_type": "code",
    "id": "5FbN2h16Sjh3",
    "outputId": "d67975e8-9c23-4e0a-9afa-1c8793b1c57b"
   },
   "outputs": [
    {
     "name": "stderr",
     "output_type": "stream",
     "text": [
      "Using TensorFlow backend.\n"
     ]
    }
   ],
   "source": [
    "import keras as k\n",
    "import keras.backend as K\n",
    "import numpy as np \n",
    "from keras.layers import *\n",
    "from keras.models import Sequential, Model\n",
    "from keras.regularizers import l2\n",
    "import matplotlib.pyplot as plt\n",
    "from keras.optimizers import Adam, Adadelta\n",
    "from keras.applications.resnet50 import ResNet50, preprocess_input\n",
    "from keras.callbacks import ModelCheckpoint, EarlyStopping"
   ]
  },
  {
   "cell_type": "code",
   "execution_count": 0,
   "metadata": {
    "colab": {
     "base_uri": "https://localhost:8080/",
     "height": 164
    },
    "colab_type": "code",
    "id": "HbeTnb8ZTrXf",
    "outputId": "99b4911c-f04d-47b0-b008-4b9e6466f4c3"
   },
   "outputs": [
    {
     "name": "stdout",
     "output_type": "stream",
     "text": [
      "Downloading data from http://fashion-mnist.s3-website.eu-central-1.amazonaws.com/train-labels-idx1-ubyte.gz\n",
      "32768/29515 [=================================] - 0s 3us/step\n",
      "Downloading data from http://fashion-mnist.s3-website.eu-central-1.amazonaws.com/train-images-idx3-ubyte.gz\n",
      "26427392/26421880 [==============================] - 2s 0us/step\n",
      "Downloading data from http://fashion-mnist.s3-website.eu-central-1.amazonaws.com/t10k-labels-idx1-ubyte.gz\n",
      "8192/5148 [===============================================] - 0s 0us/step\n",
      "Downloading data from http://fashion-mnist.s3-website.eu-central-1.amazonaws.com/t10k-images-idx3-ubyte.gz\n",
      "4423680/4422102 [==============================] - 1s 0us/step\n"
     ]
    }
   ],
   "source": [
    "# Load Fashion MNIST dataset\n",
    "(x_train_master, y_train_master), (x_test_master, y_test_master) = k.datasets.fashion_mnist.load_data()\n",
    "x_train_master = x_train_master /  255\n",
    "x_test_master = x_test_master / 255"
   ]
  },
  {
   "cell_type": "code",
   "execution_count": 0,
   "metadata": {
    "colab": {
     "base_uri": "https://localhost:8080/",
     "height": 35
    },
    "colab_type": "code",
    "id": "KdaGvyvWKL0G",
    "outputId": "f99623e4-d41f-4897-d905-d23ad4970ea1"
   },
   "outputs": [
    {
     "data": {
      "text/plain": [
       "((60000, 28, 28), (10000, 28, 28))"
      ]
     },
     "execution_count": 3,
     "metadata": {
      "tags": []
     },
     "output_type": "execute_result"
    }
   ],
   "source": [
    "x_train_master.shape, x_test_master.shape"
   ]
  },
  {
   "cell_type": "code",
   "execution_count": 0,
   "metadata": {
    "colab": {},
    "colab_type": "code",
    "id": "U-UwbScVTr7Q"
   },
   "outputs": [],
   "source": [
    "x_train_master = np.expand_dims(x_train_master, 3)\n",
    "x_test_master = np.expand_dims(x_test_master, 3)"
   ]
  },
  {
   "cell_type": "code",
   "execution_count": 0,
   "metadata": {
    "colab": {},
    "colab_type": "code",
    "id": "ULCigEvnTt33"
   },
   "outputs": [],
   "source": [
    "y_train_master = np.expand_dims(y_train_master, 1)\n",
    "y_test_master = np.expand_dims(y_test_master, 1)"
   ]
  },
  {
   "cell_type": "code",
   "execution_count": 0,
   "metadata": {
    "colab": {},
    "colab_type": "code",
    "id": "_IkIqPueTvwJ"
   },
   "outputs": [],
   "source": [
    "num_train_per_class = 400\n",
    "n_epochs = 200 \n",
    "batch_size = 20 \n",
    "embedding_dim = 50  # output of the network\n",
    "embeddings_freq = 100 # frequency to save tensorboard callback data "
   ]
  },
  {
   "cell_type": "code",
   "execution_count": 0,
   "metadata": {
    "colab": {},
    "colab_type": "code",
    "id": "5OiJClR-Z2yY"
   },
   "outputs": [],
   "source": [
    "def generate_classifier_data(dataset, label, sample_per_class=10):\n",
    "  x, y = None, None\n",
    "  for i in range(10):\n",
    "    pos_indices = np.argwhere(label == i)[:,0]\n",
    "\n",
    "    # print(\"pos indices: {}, neg_indices: {}\".format(pos_indices.shape, neg_indices.shape))\n",
    "    choice_anchor = np.random.choice(pos_indices.shape[0], sample_per_class, replace=False)\n",
    "    choice_anchor = pos_indices[choice_anchor]\n",
    "\n",
    "    sub_x_anc = dataset[choice_anchor]\n",
    "    \n",
    "        \n",
    "    if(x is None):\n",
    "      x = sub_x_anc\n",
    "      y = label[choice_anchor]\n",
    "    else:\n",
    "      x = np.vstack((x, (sub_x_anc)))\n",
    "\n",
    "      y = np.hstack((y.flatten(), label[choice_anchor].flatten()))\n",
    "    \n",
    "  return x, y"
   ]
  },
  {
   "cell_type": "code",
   "execution_count": 0,
   "metadata": {
    "colab": {},
    "colab_type": "code",
    "id": "YtwC9sz9Sjye"
   },
   "outputs": [],
   "source": [
    "# The hard triplets are computed for a batch. so, we need a generator\n",
    "class BatchGenerator(k.utils.Sequence):\n",
    "\n",
    "    def __init__(self, x_set, y_set, batch_size, embedding_dim):\n",
    "        self.x, self.y = x_set, y_set\n",
    "        self.batch_size = batch_size\n",
    "        self.shuffle = True\n",
    "\n",
    "    def on_epoch_end(self):\n",
    "        indexes = np.arange(len(self.y))\n",
    "        if self.shuffle:\n",
    "            np.random.shuffle(indexes)\n",
    "            self.x = self.x[indexes]\n",
    "            self.y = self.y[indexes]\n",
    "\n",
    "    def __len__(self):\n",
    "        return int(np.ceil(len(self.y) / float(self.batch_size)))\n",
    "\n",
    "    def __getitem__(self, idx):\n",
    "        batch_x = self.x[idx * self.batch_size:(idx + 1) * self.batch_size]\n",
    "        batch_y = self.y[idx * self.batch_size:(idx + 1) * self.batch_size]\n",
    "\n",
    "        return [batch_x, batch_y], np.ones(batch_y.shape)"
   ]
  },
  {
   "cell_type": "code",
   "execution_count": 0,
   "metadata": {
    "colab": {},
    "colab_type": "code",
    "id": "_cO4QX2pZ8qL"
   },
   "outputs": [],
   "source": [
    "train_x, train_y = generate_classifier_data(x_train_master, y_train_master, num_train_per_class)\n"
   ]
  },
  {
   "cell_type": "code",
   "execution_count": 0,
   "metadata": {
    "colab": {
     "base_uri": "https://localhost:8080/",
     "height": 35
    },
    "colab_type": "code",
    "id": "rKFvJLpkxP5F",
    "outputId": "c8c179d2-16dc-44d8-f6c3-0b7e6bb02c78"
   },
   "outputs": [
    {
     "data": {
      "text/plain": [
       "((4000, 28, 28, 1), (4000,))"
      ]
     },
     "execution_count": 10,
     "metadata": {
      "tags": []
     },
     "output_type": "execute_result"
    }
   ],
   "source": [
    "train_x.shape, train_y.shape"
   ]
  },
  {
   "cell_type": "code",
   "execution_count": 0,
   "metadata": {
    "colab": {},
    "colab_type": "code",
    "id": "7MwK6r44awEU"
   },
   "outputs": [],
   "source": [
    "batchGenerator = BatchGenerator(train_x.copy(), train_y.copy(), batch_size, embedding_dim)"
   ]
  },
  {
   "cell_type": "code",
   "execution_count": 0,
   "metadata": {
    "colab": {},
    "colab_type": "code",
    "id": "0YsEjHKO1MKN"
   },
   "outputs": [],
   "source": [
    "import tensorflow as tf\n",
    "\n",
    "\n",
    "def _pairwise_distances(embeddings, squared=False):\n",
    "    \"\"\"Compute the 2D matrix of distances between all the embeddings.\n",
    "    Args:\n",
    "        embeddings: tensor of shape (batch_size, embed_dim)\n",
    "        squared: Boolean. If true, output is the pairwise squared euclidean distance matrix.\n",
    "                 If false, output is the pairwise euclidean distance matrix.\n",
    "    Returns:\n",
    "        pairwise_distances: tensor of shape (batch_size, batch_size)\n",
    "    \"\"\"\n",
    "    # Get the dot product between all embeddings\n",
    "    # shape (batch_size, batch_size)\n",
    "    dot_product = tf.matmul(embeddings, tf.transpose(embeddings))\n",
    "\n",
    "    # Get squared L2 norm for each embedding. We can just take the diagonal of `dot_product`.\n",
    "    # This also provides more numerical stability (the diagonal of the result will be exactly 0).\n",
    "    # shape (batch_size,)\n",
    "    square_norm = tf.diag_part(dot_product)\n",
    "\n",
    "    # Compute the pairwise distance matrix as we have:\n",
    "    # ||a - b||^2 = ||a||^2  - 2 <a, b> + ||b||^2\n",
    "    # shape (batch_size, batch_size)\n",
    "    distances = tf.expand_dims(square_norm, 1) - 2.0 * dot_product + tf.expand_dims(square_norm, 0)\n",
    "\n",
    "    # Because of computation errors, some distances might be negative so we put everything >= 0.0\n",
    "    distances = tf.maximum(distances, 0.0)\n",
    "\n",
    "    if not squared:\n",
    "        # Because the gradient of sqrt is infinite when distances == 0.0 (ex: on the diagonal)\n",
    "        # we need to add a small epsilon where distances == 0.0\n",
    "        mask = tf.to_float(tf.equal(distances, 0.0))\n",
    "        distances = distances + mask * 1e-16\n",
    "\n",
    "        distances = tf.sqrt(distances)\n",
    "\n",
    "        # Correct the epsilon added: set the distances on the mask to be exactly 0.0\n",
    "        distances = distances * (1.0 - mask)\n",
    "\n",
    "    return distances\n",
    "\n",
    "\n",
    "def _get_anchor_positive_triplet_mask(labels):\n",
    "    \"\"\"Return a 2D mask where mask[a, p] is True iff a and p are distinct and have same label.\n",
    "    Args:\n",
    "        labels: tf.int32 `Tensor` with shape [batch_size]\n",
    "    Returns:\n",
    "        mask: tf.bool `Tensor` with shape [batch_size, batch_size]\n",
    "    \"\"\"\n",
    "    # Check that i and j are distinct\n",
    "    indices_equal = tf.cast(tf.eye(tf.shape(labels)[0]), tf.bool)\n",
    "    indices_not_equal = tf.logical_not(indices_equal)\n",
    "\n",
    "    # Check if labels[i] == labels[j]\n",
    "    # Uses broadcasting where the 1st argument has shape (1, batch_size) and the 2nd (batch_size, 1)\n",
    "    labels_equal = tf.equal(tf.expand_dims(labels, 0), tf.expand_dims(labels, 1))\n",
    "\n",
    "    # Combine the two masks\n",
    "    mask = tf.logical_and(indices_not_equal, labels_equal)\n",
    "\n",
    "    return mask\n",
    "\n",
    "\n",
    "def _get_anchor_negative_triplet_mask(labels):\n",
    "    \"\"\"Return a 2D mask where mask[a, n] is True iff a and n have distinct labels.\n",
    "    Args:\n",
    "        labels: tf.int32 `Tensor` with shape [batch_size]\n",
    "    Returns:\n",
    "        mask: tf.bool `Tensor` with shape [batch_size, batch_size]\n",
    "    \"\"\"\n",
    "    # Check if labels[i] != labels[k]\n",
    "    # Uses broadcasting where the 1st argument has shape (1, batch_size) and the 2nd (batch_size, 1)\n",
    "    labels_equal = tf.equal(tf.expand_dims(labels, 0), tf.expand_dims(labels, 1))\n",
    "\n",
    "    mask = tf.logical_not(labels_equal)\n",
    "\n",
    "    return mask\n",
    "\n",
    "\n",
    "def _get_triplet_mask(labels):\n",
    "    \"\"\"Return a 3D mask where mask[a, p, n] is True iff the triplet (a, p, n) is valid.\n",
    "    A triplet (i, j, k) is valid if:\n",
    "        - i, j, k are distinct\n",
    "        - labels[i] == labels[j] and labels[i] != labels[k]\n",
    "    Args:\n",
    "        labels: tf.int32 `Tensor` with shape [batch_size]\n",
    "    \"\"\"\n",
    "    # Check that i, j and k are distinct\n",
    "    indices_equal = tf.cast(tf.eye(tf.shape(labels)[0]), tf.bool)\n",
    "    indices_not_equal = tf.logical_not(indices_equal)\n",
    "    i_not_equal_j = tf.expand_dims(indices_not_equal, 2)\n",
    "    i_not_equal_k = tf.expand_dims(indices_not_equal, 1)\n",
    "    j_not_equal_k = tf.expand_dims(indices_not_equal, 0)\n",
    "\n",
    "    distinct_indices = tf.logical_and(tf.logical_and(i_not_equal_j, i_not_equal_k), j_not_equal_k)\n",
    "\n",
    "\n",
    "    # Check if labels[i] == labels[j] and labels[i] != labels[k]\n",
    "    label_equal = tf.equal(tf.expand_dims(labels, 0), tf.expand_dims(labels, 1))\n",
    "    i_equal_j = tf.expand_dims(label_equal, 2)\n",
    "    i_equal_k = tf.expand_dims(label_equal, 1)\n",
    "\n",
    "    valid_labels = tf.logical_and(i_equal_j, tf.logical_not(i_equal_k))\n",
    "\n",
    "    # Combine the two masks\n",
    "    mask = tf.logical_and(distinct_indices, valid_labels)\n",
    "\n",
    "    return mask\n",
    "  \n",
    "def batch_hard_triplet_loss(labels, embeddings , margin=1, squared=False):\n",
    "    \"\"\"Build the triplet loss over a batch of embeddings.\n",
    "    For each anchor, we get the hardest positive and hardest negative to form a triplet.\n",
    "    Args:\n",
    "        labels: labels of the batch, of size (batch_size,)\n",
    "        embeddings: tensor of shape (batch_size, embed_dim)\n",
    "        margin: margin for triplet loss\n",
    "        squared: Boolean. If true, output is the pairwise squared euclidean distance matrix.\n",
    "                 If false, output is the pairwise euclidean distance matrix.\n",
    "    Returns:\n",
    "        triplet_loss: scalar tensor containing the triplet loss\n",
    "    \"\"\"\n",
    "    # Get the pairwise distance matrix\n",
    "    pairwise_dist = _pairwise_distances(embeddings, squared=squared)\n",
    "\n",
    "    # For each anchor, get the hardest positive\n",
    "    # First, we need to get a mask for every valid positive (they should have same label)\n",
    "    mask_anchor_positive = _get_anchor_positive_triplet_mask(labels)\n",
    "    mask_anchor_positive = tf.to_float(mask_anchor_positive)\n",
    "\n",
    "    # We put to 0 any element where (a, p) is not valid (valid if a != p and label(a) == label(p))\n",
    "    anchor_positive_dist = tf.multiply(mask_anchor_positive, pairwise_dist)\n",
    "    \n",
    "    # shape (batch_size, 1)\n",
    "    hardest_positive_dist = tf.reduce_max(anchor_positive_dist, axis=1, keepdims=True)\n",
    "    tf.summary.scalar(\"hardest_positive_dist\", tf.reduce_mean(hardest_positive_dist))\n",
    "\n",
    "    # For each anchor, get the hardest negative\n",
    "    # First, we need to get a mask for every valid negative (they should have different labels)\n",
    "    mask_anchor_negative = _get_anchor_negative_triplet_mask(labels)\n",
    "    mask_anchor_negative = tf.to_float(mask_anchor_negative)\n",
    "\n",
    "    # We add the maximum value in each row to the invalid negatives (label(a) == label(n))\n",
    "    max_anchor_negative_dist = tf.reduce_max(pairwise_dist, axis=1, keepdims=True)\n",
    "    anchor_negative_dist = pairwise_dist + max_anchor_negative_dist * (1.0 - mask_anchor_negative)\n",
    "\n",
    "    # shape (batch_size,)\n",
    "    hardest_negative_dist = tf.reduce_min(anchor_negative_dist, axis=1, keepdims=True)\n",
    "    tf.summary.scalar(\"hardest_negative_dist\", tf.reduce_mean(hardest_negative_dist))\n",
    "\n",
    "    # Combine biggest d(a, p) and smallest d(a, n) into final triplet loss\n",
    "    triplet_loss = tf.maximum(hardest_positive_dist - hardest_negative_dist + margin, 0.0)\n",
    "\n",
    "    # Get final mean triplet loss\n",
    "    triplet_loss = tf.reduce_mean(triplet_loss)\n",
    "    \n",
    "    return triplet_loss\n",
    "\n"
   ]
  },
  {
   "cell_type": "code",
   "execution_count": 0,
   "metadata": {
    "colab": {},
    "colab_type": "code",
    "id": "tkKO6ftcWa1y"
   },
   "outputs": [],
   "source": [
    "def get_loss_function(labels):\n",
    "  def loss(y_true, y_pred):\n",
    "    return batch_hard_triplet_loss(tf.squeeze(labels), y_pred , margin=10, squared=False)\n",
    "  return loss"
   ]
  },
  {
   "cell_type": "code",
   "execution_count": 0,
   "metadata": {
    "colab": {},
    "colab_type": "code",
    "id": "bkV0AF9FT6Qj"
   },
   "outputs": [],
   "source": [
    "def triplet_loss(inputs, dist='sqeuclidean', margin='maxplus'):\n",
    "    anchor, positive, negative = inputs\n",
    "    positive_distance = K.square(anchor - positive)\n",
    "    negative_distance = K.square(anchor - negative)\n",
    "    if dist == 'euclidean':\n",
    "        positive_distance = K.sqrt(K.sum(positive_distance, axis=-1, keepdims=True))\n",
    "        negative_distance = K.sqrt(K.sum(negative_distance, axis=-1, keepdims=True))\n",
    "    elif dist == 'sqeuclidean':\n",
    "        positive_distance = K.sum(positive_distance, axis=-1, keepdims=True)\n",
    "        negative_distance = K.sum(negative_distance, axis=-1, keepdims=True)\n",
    "    loss = positive_distance - negative_distance\n",
    "    if margin == 'maxplus':\n",
    "        loss = K.maximum(0.0, 1 + loss)\n",
    "    elif margin == 'softplus':\n",
    "        loss = K.log(1 + K.exp(loss))\n",
    "    return K.mean(loss)\n",
    "\n",
    "def get_embedding_model(input_shape, embedding_dim):\n",
    "    _input = Input(shape=input_shape)\n",
    "    x = Flatten()(_input)\n",
    "    x = Dense(embedding_dim * 4,activation=\"relu\")(x)\n",
    "    x = Dense(embedding_dim * 2, activation='relu')(x)\n",
    "    x = Dense(embedding_dim)(x)\n",
    "    return Model(_input, x)"
   ]
  },
  {
   "cell_type": "code",
   "execution_count": 0,
   "metadata": {
    "colab": {
     "base_uri": "https://localhost:8080/",
     "height": 147
    },
    "colab_type": "code",
    "id": "t2Lpcr4Aopaq",
    "outputId": "71a41ab1-7ab8-4bd9-aa46-bfa8794913e8"
   },
   "outputs": [
    {
     "name": "stdout",
     "output_type": "stream",
     "text": [
      "WARNING:tensorflow:From /usr/local/lib/python3.6/dist-packages/keras/backend/tensorflow_backend.py:541: The name tf.placeholder is deprecated. Please use tf.compat.v1.placeholder instead.\n",
      "\n",
      "WARNING:tensorflow:From /usr/local/lib/python3.6/dist-packages/keras/backend/tensorflow_backend.py:66: The name tf.get_default_graph is deprecated. Please use tf.compat.v1.get_default_graph instead.\n",
      "\n",
      "WARNING:tensorflow:From /usr/local/lib/python3.6/dist-packages/keras/backend/tensorflow_backend.py:4432: The name tf.random_uniform is deprecated. Please use tf.random.uniform instead.\n",
      "\n"
     ]
    }
   ],
   "source": [
    "\n",
    "input_shape=x_train_master[0].shape\n",
    "label_shape=(1,)\n",
    "# Define the inputs to the network\n",
    "img_inputs = Input(input_shape, name=\"img_input\")\n",
    "labels = Input(label_shape, name=\"label_input\") # this will be used for calculating loss only\n",
    "\n",
    "x = Flatten()(img_inputs)\n",
    "x = Dense(embedding_dim * 4,activation=\"relu\")(x)\n",
    "x = Dense(embedding_dim * 2, activation='relu')(x)\n",
    "encoded_inputs = Dense(embedding_dim, name=\"enc_op\")(x)\n",
    "\n",
    "# concat = Concatenate(axis=-1)([encoded_inputs, labels])\n",
    "# print(concat.shape)\n",
    "\n",
    "inputs = [img_inputs, labels]\n",
    "outputs = encoded_inputs\n",
    "\n",
    "# Connect the inputs with the outputs\n",
    "siamese_model = Model(inputs=inputs,outputs=outputs)\n",
    "encoding_model = Model(inputs=img_inputs, outputs=outputs)"
   ]
  },
  {
   "cell_type": "code",
   "execution_count": 0,
   "metadata": {
    "colab": {
     "base_uri": "https://localhost:8080/",
     "height": 348
    },
    "colab_type": "code",
    "id": "7PXAPGYloHJI",
    "outputId": "c153a775-1693-42b7-d5d7-f3ff9e716234"
   },
   "outputs": [
    {
     "name": "stdout",
     "output_type": "stream",
     "text": [
      "Model: \"model_1\"\n",
      "_________________________________________________________________\n",
      "Layer (type)                 Output Shape              Param #   \n",
      "=================================================================\n",
      "img_input (InputLayer)       (None, 28, 28, 1)         0         \n",
      "_________________________________________________________________\n",
      "flatten_1 (Flatten)          (None, 784)               0         \n",
      "_________________________________________________________________\n",
      "dense_1 (Dense)              (None, 200)               157000    \n",
      "_________________________________________________________________\n",
      "dense_2 (Dense)              (None, 100)               20100     \n",
      "_________________________________________________________________\n",
      "enc_op (Dense)               (None, 50)                5050      \n",
      "=================================================================\n",
      "Total params: 182,150\n",
      "Trainable params: 182,150\n",
      "Non-trainable params: 0\n",
      "_________________________________________________________________\n"
     ]
    }
   ],
   "source": [
    "siamese_model.summary()"
   ]
  },
  {
   "cell_type": "code",
   "execution_count": 0,
   "metadata": {
    "colab": {
     "base_uri": "https://localhost:8080/",
     "height": 109
    },
    "colab_type": "code",
    "id": "y8mwTa2_aOYe",
    "outputId": "ac235574-f736-4947-9fcb-f974de2aafb4"
   },
   "outputs": [
    {
     "name": "stdout",
     "output_type": "stream",
     "text": [
      "WARNING:tensorflow:From /usr/local/lib/python3.6/dist-packages/keras/optimizers.py:793: The name tf.train.Optimizer is deprecated. Please use tf.compat.v1.train.Optimizer instead.\n",
      "\n",
      "WARNING:tensorflow:From <ipython-input-12-80679fd7c36c>:35: to_float (from tensorflow.python.ops.math_ops) is deprecated and will be removed in a future version.\n",
      "Instructions for updating:\n",
      "Use `tf.cast` instead.\n"
     ]
    }
   ],
   "source": [
    "siamese_model.compile(loss=get_loss_function(labels), optimizer=Adam(0.0001))"
   ]
  },
  {
   "cell_type": "code",
   "execution_count": 0,
   "metadata": {
    "colab": {},
    "colab_type": "code",
    "id": "XH8njVHipRFm"
   },
   "outputs": [],
   "source": [
    "tfb_test_callback = k.callbacks.TensorBoard(batch_size=batch_size, log_dir=\"./logs/test\",\n",
    "                                         embeddings_freq=embeddings_freq,  \n",
    "                                         embeddings_layer_names=['enc_op'],  # Embeddings are taken from layers\n",
    "                                         embeddings_metadata='metadata_test.tsv',  # This file will describe the embeddings data (see below)\n",
    "                                         embeddings_data=[x_test_master, y_test_master])  # Data used for the embeddings\n",
    "\n",
    "tfb_train_callback = k.callbacks.TensorBoard(batch_size=batch_size, log_dir=\"./logs/train\",\n",
    "                                         embeddings_freq=embeddings_freq,  \n",
    "                                         embeddings_layer_names=['enc_op'],  # Embeddings are taken from layers\n",
    "                                         embeddings_metadata='metadata_train.tsv',  # This file will describe the embeddings data (see below)\n",
    "                                         embeddings_data=[train_x, train_y])  # Data used for the embeddings\n",
    "callbacks = [tfb_train_callback, tfb_test_callback]"
   ]
  },
  {
   "cell_type": "code",
   "execution_count": 0,
   "metadata": {
    "colab": {
     "base_uri": "https://localhost:8080/",
     "height": 1000
    },
    "colab_type": "code",
    "id": "2WcT_WM4kJXt",
    "outputId": "a07836d2-6464-4e61-9d32-3feb72b490ab"
   },
   "outputs": [
    {
     "name": "stdout",
     "output_type": "stream",
     "text": [
      "WARNING:tensorflow:From /usr/local/lib/python3.6/dist-packages/tensorflow_core/python/ops/math_grad.py:1424: where (from tensorflow.python.ops.array_ops) is deprecated and will be removed in a future version.\n",
      "Instructions for updating:\n",
      "Use tf.where in 2.0, which has the same broadcast rule as np.where\n",
      "WARNING:tensorflow:From /usr/local/lib/python3.6/dist-packages/keras/backend/tensorflow_backend.py:1033: The name tf.assign_add is deprecated. Please use tf.compat.v1.assign_add instead.\n",
      "\n",
      "WARNING:tensorflow:From /usr/local/lib/python3.6/dist-packages/keras/backend/tensorflow_backend.py:1020: The name tf.assign is deprecated. Please use tf.compat.v1.assign instead.\n",
      "\n",
      "WARNING:tensorflow:From /usr/local/lib/python3.6/dist-packages/keras/backend/tensorflow_backend.py:3005: The name tf.Session is deprecated. Please use tf.compat.v1.Session instead.\n",
      "\n",
      "WARNING:tensorflow:From /usr/local/lib/python3.6/dist-packages/keras/backend/tensorflow_backend.py:190: The name tf.get_default_session is deprecated. Please use tf.compat.v1.get_default_session instead.\n",
      "\n",
      "WARNING:tensorflow:From /usr/local/lib/python3.6/dist-packages/keras/backend/tensorflow_backend.py:197: The name tf.ConfigProto is deprecated. Please use tf.compat.v1.ConfigProto instead.\n",
      "\n",
      "WARNING:tensorflow:From /usr/local/lib/python3.6/dist-packages/keras/backend/tensorflow_backend.py:207: The name tf.global_variables is deprecated. Please use tf.compat.v1.global_variables instead.\n",
      "\n",
      "WARNING:tensorflow:From /usr/local/lib/python3.6/dist-packages/keras/backend/tensorflow_backend.py:216: The name tf.is_variable_initialized is deprecated. Please use tf.compat.v1.is_variable_initialized instead.\n",
      "\n",
      "WARNING:tensorflow:From /usr/local/lib/python3.6/dist-packages/keras/backend/tensorflow_backend.py:223: The name tf.variables_initializer is deprecated. Please use tf.compat.v1.variables_initializer instead.\n",
      "\n",
      "WARNING:tensorflow:From /usr/local/lib/python3.6/dist-packages/keras/callbacks.py:1122: The name tf.summary.merge_all is deprecated. Please use tf.compat.v1.summary.merge_all instead.\n",
      "\n",
      "WARNING:tensorflow:From /usr/local/lib/python3.6/dist-packages/keras/callbacks.py:1125: The name tf.summary.FileWriter is deprecated. Please use tf.compat.v1.summary.FileWriter instead.\n",
      "\n",
      "WARNING:tensorflow:From /usr/local/lib/python3.6/dist-packages/keras/callbacks.py:1159: The name tf.train.Saver is deprecated. Please use tf.compat.v1.train.Saver instead.\n",
      "\n",
      "Epoch 1/201\n",
      "200/200 [==============================] - 2s 12ms/step - loss: 10.0000\n",
      "WARNING:tensorflow:From /usr/local/lib/python3.6/dist-packages/keras/callbacks.py:1265: The name tf.Summary is deprecated. Please use tf.compat.v1.Summary instead.\n",
      "\n",
      "Epoch 2/201\n",
      "200/200 [==============================] - 2s 8ms/step - loss: 9.9102\n",
      "Epoch 3/201\n",
      "200/200 [==============================] - 2s 8ms/step - loss: 9.5397\n",
      "Epoch 4/201\n",
      "200/200 [==============================] - 2s 8ms/step - loss: 9.0435\n",
      "Epoch 5/201\n",
      "200/200 [==============================] - 2s 8ms/step - loss: 8.7302\n",
      "Epoch 6/201\n",
      "200/200 [==============================] - 2s 8ms/step - loss: 8.3474\n",
      "Epoch 7/201\n",
      "200/200 [==============================] - 2s 8ms/step - loss: 8.1759\n",
      "Epoch 8/201\n",
      "200/200 [==============================] - 1s 7ms/step - loss: 7.9027\n",
      "Epoch 9/201\n",
      "200/200 [==============================] - 1s 7ms/step - loss: 7.7136\n",
      "Epoch 10/201\n",
      "200/200 [==============================] - 1s 7ms/step - loss: 7.4492\n",
      "Epoch 11/201\n",
      "200/200 [==============================] - 1s 7ms/step - loss: 7.3367\n",
      "Epoch 12/201\n",
      "200/200 [==============================] - 1s 7ms/step - loss: 7.3127\n",
      "Epoch 13/201\n",
      "200/200 [==============================] - 1s 7ms/step - loss: 7.0455\n",
      "Epoch 14/201\n",
      "200/200 [==============================] - 2s 8ms/step - loss: 6.9667\n",
      "Epoch 15/201\n",
      "200/200 [==============================] - 2s 8ms/step - loss: 6.7322\n",
      "Epoch 16/201\n",
      "200/200 [==============================] - 2s 8ms/step - loss: 6.6398\n",
      "Epoch 17/201\n",
      "200/200 [==============================] - 2s 8ms/step - loss: 6.4027\n",
      "Epoch 18/201\n",
      "200/200 [==============================] - 2s 8ms/step - loss: 6.4453\n",
      "Epoch 19/201\n",
      "200/200 [==============================] - 2s 8ms/step - loss: 6.2672\n",
      "Epoch 20/201\n",
      "200/200 [==============================] - 2s 8ms/step - loss: 6.3119\n",
      "Epoch 21/201\n",
      "200/200 [==============================] - 2s 8ms/step - loss: 5.9839\n",
      "Epoch 22/201\n",
      "200/200 [==============================] - 2s 8ms/step - loss: 5.9559\n",
      "Epoch 23/201\n",
      "200/200 [==============================] - 2s 8ms/step - loss: 5.8824\n",
      "Epoch 24/201\n",
      "200/200 [==============================] - 2s 8ms/step - loss: 5.7911\n",
      "Epoch 25/201\n",
      "200/200 [==============================] - 2s 8ms/step - loss: 5.4906\n",
      "Epoch 26/201\n",
      "200/200 [==============================] - 2s 8ms/step - loss: 5.6037\n",
      "Epoch 27/201\n",
      "200/200 [==============================] - 2s 8ms/step - loss: 5.5353\n",
      "Epoch 28/201\n",
      "200/200 [==============================] - 2s 8ms/step - loss: 5.4704\n",
      "Epoch 29/201\n",
      "200/200 [==============================] - 2s 8ms/step - loss: 5.3135\n",
      "Epoch 30/201\n",
      "200/200 [==============================] - 2s 8ms/step - loss: 5.3660\n",
      "Epoch 31/201\n",
      "200/200 [==============================] - 2s 8ms/step - loss: 5.2094\n",
      "Epoch 32/201\n",
      "200/200 [==============================] - 2s 8ms/step - loss: 5.1160\n",
      "Epoch 33/201\n",
      "200/200 [==============================] - 2s 8ms/step - loss: 5.1531\n",
      "Epoch 34/201\n",
      "200/200 [==============================] - 2s 8ms/step - loss: 5.0588\n",
      "Epoch 35/201\n",
      "200/200 [==============================] - 2s 8ms/step - loss: 4.8970\n",
      "Epoch 36/201\n",
      "200/200 [==============================] - 1s 7ms/step - loss: 4.8014\n",
      "Epoch 37/201\n",
      "200/200 [==============================] - 1s 7ms/step - loss: 4.8920\n",
      "Epoch 38/201\n",
      "200/200 [==============================] - 1s 7ms/step - loss: 4.9504\n",
      "Epoch 39/201\n",
      "200/200 [==============================] - 2s 8ms/step - loss: 4.7201\n",
      "Epoch 40/201\n",
      "200/200 [==============================] - 1s 7ms/step - loss: 4.6278\n",
      "Epoch 41/201\n",
      "200/200 [==============================] - 1s 7ms/step - loss: 4.5234\n",
      "Epoch 42/201\n",
      "200/200 [==============================] - 2s 8ms/step - loss: 4.4420\n",
      "Epoch 43/201\n",
      "200/200 [==============================] - 2s 8ms/step - loss: 4.3829\n",
      "Epoch 44/201\n",
      "200/200 [==============================] - 2s 8ms/step - loss: 4.4039\n",
      "Epoch 45/201\n",
      "200/200 [==============================] - 2s 8ms/step - loss: 4.2783\n",
      "Epoch 46/201\n",
      "200/200 [==============================] - 2s 8ms/step - loss: 4.1852\n",
      "Epoch 47/201\n",
      "200/200 [==============================] - 2s 8ms/step - loss: 4.1570\n",
      "Epoch 48/201\n",
      "200/200 [==============================] - 2s 8ms/step - loss: 4.1116\n",
      "Epoch 49/201\n",
      "200/200 [==============================] - 2s 8ms/step - loss: 4.0784\n",
      "Epoch 50/201\n",
      "200/200 [==============================] - 2s 8ms/step - loss: 4.0220\n",
      "Epoch 51/201\n",
      "200/200 [==============================] - 2s 8ms/step - loss: 4.0199\n",
      "Epoch 52/201\n",
      "200/200 [==============================] - 2s 8ms/step - loss: 3.8621\n",
      "Epoch 53/201\n",
      "200/200 [==============================] - 2s 8ms/step - loss: 3.8556\n",
      "Epoch 54/201\n",
      "200/200 [==============================] - 2s 8ms/step - loss: 3.6489\n",
      "Epoch 55/201\n",
      "200/200 [==============================] - 2s 8ms/step - loss: 3.8863\n",
      "Epoch 56/201\n",
      "200/200 [==============================] - 2s 8ms/step - loss: 3.7959\n",
      "Epoch 57/201\n",
      "200/200 [==============================] - 2s 8ms/step - loss: 3.7889\n",
      "Epoch 58/201\n",
      "200/200 [==============================] - 2s 8ms/step - loss: 3.6387\n",
      "Epoch 59/201\n",
      "200/200 [==============================] - 1s 7ms/step - loss: 3.5551\n",
      "Epoch 60/201\n",
      "200/200 [==============================] - 1s 7ms/step - loss: 3.5060\n",
      "Epoch 61/201\n",
      "200/200 [==============================] - 1s 7ms/step - loss: 3.4263\n",
      "Epoch 62/201\n",
      "200/200 [==============================] - 2s 8ms/step - loss: 3.4740\n",
      "Epoch 63/201\n",
      "200/200 [==============================] - 1s 7ms/step - loss: 3.2527\n",
      "Epoch 64/201\n",
      "200/200 [==============================] - 1s 7ms/step - loss: 3.3882\n",
      "Epoch 65/201\n",
      "200/200 [==============================] - 2s 8ms/step - loss: 3.3693\n",
      "Epoch 66/201\n",
      "200/200 [==============================] - 2s 8ms/step - loss: 3.1553\n",
      "Epoch 67/201\n",
      "200/200 [==============================] - 1s 7ms/step - loss: 3.1383\n",
      "Epoch 68/201\n",
      "200/200 [==============================] - 1s 7ms/step - loss: 3.1554\n",
      "Epoch 69/201\n",
      "200/200 [==============================] - 1s 7ms/step - loss: 2.9884\n",
      "Epoch 70/201\n",
      "200/200 [==============================] - 1s 7ms/step - loss: 3.0925\n",
      "Epoch 71/201\n",
      "200/200 [==============================] - 2s 8ms/step - loss: 2.9381\n",
      "Epoch 72/201\n",
      "200/200 [==============================] - 2s 8ms/step - loss: 2.9395\n",
      "Epoch 73/201\n",
      "200/200 [==============================] - 2s 8ms/step - loss: 2.8172\n",
      "Epoch 74/201\n",
      "200/200 [==============================] - 2s 8ms/step - loss: 2.8059\n",
      "Epoch 75/201\n",
      "200/200 [==============================] - 2s 8ms/step - loss: 2.7341\n",
      "Epoch 76/201\n",
      "200/200 [==============================] - 2s 8ms/step - loss: 2.8267\n",
      "Epoch 77/201\n",
      "200/200 [==============================] - 2s 8ms/step - loss: 2.7860\n",
      "Epoch 78/201\n",
      "200/200 [==============================] - 1s 7ms/step - loss: 2.5975\n",
      "Epoch 79/201\n",
      "200/200 [==============================] - 2s 8ms/step - loss: 2.6226\n",
      "Epoch 80/201\n",
      "200/200 [==============================] - 2s 8ms/step - loss: 2.6569\n",
      "Epoch 81/201\n",
      "200/200 [==============================] - 2s 8ms/step - loss: 2.6033\n",
      "Epoch 82/201\n",
      "200/200 [==============================] - 2s 8ms/step - loss: 2.3799\n",
      "Epoch 83/201\n",
      "200/200 [==============================] - 2s 8ms/step - loss: 2.4797\n",
      "Epoch 84/201\n",
      "200/200 [==============================] - 2s 8ms/step - loss: 2.3813\n",
      "Epoch 85/201\n",
      "200/200 [==============================] - 1s 7ms/step - loss: 2.3459\n",
      "Epoch 86/201\n",
      "200/200 [==============================] - 2s 8ms/step - loss: 2.3558\n",
      "Epoch 87/201\n",
      "200/200 [==============================] - 2s 8ms/step - loss: 2.2576\n",
      "Epoch 88/201\n",
      "200/200 [==============================] - 2s 8ms/step - loss: 2.2136\n",
      "Epoch 89/201\n",
      "200/200 [==============================] - 1s 7ms/step - loss: 2.1676\n",
      "Epoch 90/201\n",
      "200/200 [==============================] - 1s 7ms/step - loss: 2.1826\n",
      "Epoch 91/201\n",
      "200/200 [==============================] - 2s 8ms/step - loss: 2.1238\n",
      "Epoch 92/201\n",
      "200/200 [==============================] - 1s 7ms/step - loss: 2.0215\n",
      "Epoch 93/201\n",
      "200/200 [==============================] - 1s 7ms/step - loss: 1.9786\n",
      "Epoch 94/201\n",
      "200/200 [==============================] - 1s 7ms/step - loss: 1.9203\n",
      "Epoch 95/201\n",
      "200/200 [==============================] - 1s 7ms/step - loss: 1.9910\n",
      "Epoch 96/201\n",
      "200/200 [==============================] - 1s 7ms/step - loss: 1.8582\n",
      "Epoch 97/201\n",
      "200/200 [==============================] - 2s 8ms/step - loss: 1.7870\n",
      "Epoch 98/201\n",
      "200/200 [==============================] - 2s 8ms/step - loss: 1.7932\n",
      "Epoch 99/201\n",
      "200/200 [==============================] - 2s 8ms/step - loss: 1.7660\n",
      "Epoch 100/201\n",
      "200/200 [==============================] - 2s 8ms/step - loss: 1.6650\n",
      "Epoch 101/201\n",
      "200/200 [==============================] - 2s 8ms/step - loss: 1.7657\n",
      "Epoch 102/201\n",
      "200/200 [==============================] - 2s 8ms/step - loss: 1.5489\n",
      "Epoch 103/201\n",
      "200/200 [==============================] - 2s 8ms/step - loss: 1.7288\n",
      "Epoch 104/201\n",
      "200/200 [==============================] - 2s 8ms/step - loss: 1.5289\n",
      "Epoch 105/201\n",
      "200/200 [==============================] - 2s 8ms/step - loss: 1.5194\n",
      "Epoch 106/201\n",
      "200/200 [==============================] - 2s 8ms/step - loss: 1.5286\n",
      "Epoch 107/201\n",
      "200/200 [==============================] - 1s 7ms/step - loss: 1.4016\n",
      "Epoch 108/201\n",
      "200/200 [==============================] - 1s 7ms/step - loss: 1.4241\n",
      "Epoch 109/201\n",
      "200/200 [==============================] - 1s 7ms/step - loss: 1.4030\n",
      "Epoch 110/201\n",
      "200/200 [==============================] - 1s 7ms/step - loss: 1.4207\n",
      "Epoch 111/201\n",
      "200/200 [==============================] - 1s 7ms/step - loss: 1.2547\n",
      "Epoch 112/201\n",
      "200/200 [==============================] - 1s 7ms/step - loss: 1.2290\n",
      "Epoch 113/201\n",
      "200/200 [==============================] - 2s 8ms/step - loss: 1.2787\n",
      "Epoch 114/201\n",
      "200/200 [==============================] - 2s 8ms/step - loss: 1.2435\n",
      "Epoch 115/201\n",
      "200/200 [==============================] - 2s 8ms/step - loss: 1.2086\n",
      "Epoch 116/201\n",
      "200/200 [==============================] - 2s 8ms/step - loss: 1.0840\n",
      "Epoch 117/201\n",
      "200/200 [==============================] - 2s 8ms/step - loss: 1.0777\n",
      "Epoch 118/201\n",
      "200/200 [==============================] - 2s 8ms/step - loss: 1.1648\n",
      "Epoch 119/201\n",
      "200/200 [==============================] - 2s 8ms/step - loss: 1.0000\n",
      "Epoch 120/201\n",
      "200/200 [==============================] - 2s 8ms/step - loss: 1.0319\n",
      "Epoch 121/201\n",
      "200/200 [==============================] - 2s 8ms/step - loss: 1.0151\n",
      "Epoch 122/201\n",
      "200/200 [==============================] - 2s 8ms/step - loss: 1.0849\n",
      "Epoch 123/201\n",
      "200/200 [==============================] - 2s 8ms/step - loss: 1.0463\n",
      "Epoch 124/201\n",
      "200/200 [==============================] - 2s 8ms/step - loss: 0.9286\n",
      "Epoch 125/201\n",
      "200/200 [==============================] - 2s 8ms/step - loss: 0.8928\n",
      "Epoch 126/201\n",
      "200/200 [==============================] - 2s 8ms/step - loss: 0.9072\n",
      "Epoch 127/201\n",
      "200/200 [==============================] - 2s 8ms/step - loss: 0.8470\n",
      "Epoch 128/201\n",
      "200/200 [==============================] - 2s 8ms/step - loss: 0.7864\n",
      "Epoch 129/201\n",
      "200/200 [==============================] - 1s 7ms/step - loss: 0.8381\n",
      "Epoch 130/201\n",
      "200/200 [==============================] - 1s 7ms/step - loss: 0.8023\n",
      "Epoch 131/201\n",
      "200/200 [==============================] - 1s 7ms/step - loss: 0.7480\n",
      "Epoch 132/201\n",
      "200/200 [==============================] - 1s 7ms/step - loss: 0.8039\n",
      "Epoch 133/201\n",
      "200/200 [==============================] - 1s 7ms/step - loss: 0.7974\n",
      "Epoch 134/201\n",
      "200/200 [==============================] - 1s 7ms/step - loss: 0.7356\n",
      "Epoch 135/201\n",
      "200/200 [==============================] - 1s 7ms/step - loss: 0.6819\n",
      "Epoch 136/201\n",
      "200/200 [==============================] - 1s 7ms/step - loss: 0.6520\n",
      "Epoch 137/201\n",
      "200/200 [==============================] - 1s 7ms/step - loss: 0.7493\n",
      "Epoch 138/201\n",
      "200/200 [==============================] - 2s 8ms/step - loss: 0.5938\n",
      "Epoch 139/201\n",
      "200/200 [==============================] - 2s 8ms/step - loss: 0.6462\n",
      "Epoch 140/201\n",
      "200/200 [==============================] - 1s 7ms/step - loss: 0.6116\n",
      "Epoch 141/201\n",
      "200/200 [==============================] - 1s 7ms/step - loss: 0.7124\n",
      "Epoch 142/201\n",
      "200/200 [==============================] - 1s 7ms/step - loss: 0.5054\n",
      "Epoch 143/201\n",
      "200/200 [==============================] - 1s 7ms/step - loss: 0.5376\n",
      "Epoch 144/201\n",
      "200/200 [==============================] - 2s 8ms/step - loss: 0.4938\n",
      "Epoch 145/201\n",
      "200/200 [==============================] - 1s 7ms/step - loss: 0.4834\n",
      "Epoch 146/201\n",
      "200/200 [==============================] - 2s 8ms/step - loss: 0.4521\n",
      "Epoch 147/201\n",
      "200/200 [==============================] - 2s 8ms/step - loss: 0.4246\n",
      "Epoch 148/201\n",
      "200/200 [==============================] - 2s 8ms/step - loss: 0.5051\n",
      "Epoch 149/201\n",
      "200/200 [==============================] - 1s 7ms/step - loss: 0.5224\n",
      "Epoch 150/201\n",
      "200/200 [==============================] - 2s 8ms/step - loss: 0.5240\n",
      "Epoch 151/201\n",
      "200/200 [==============================] - 2s 8ms/step - loss: 0.4713\n",
      "Epoch 152/201\n",
      "200/200 [==============================] - 2s 8ms/step - loss: 0.4044\n",
      "Epoch 153/201\n",
      "200/200 [==============================] - 2s 8ms/step - loss: 0.3575\n",
      "Epoch 154/201\n",
      "200/200 [==============================] - 2s 8ms/step - loss: 0.4563\n",
      "Epoch 155/201\n",
      "200/200 [==============================] - 2s 8ms/step - loss: 0.3537\n",
      "Epoch 156/201\n",
      "200/200 [==============================] - 1s 7ms/step - loss: 0.3386\n",
      "Epoch 157/201\n",
      "200/200 [==============================] - 1s 7ms/step - loss: 0.3581\n",
      "Epoch 158/201\n",
      "200/200 [==============================] - 2s 8ms/step - loss: 0.3368\n",
      "Epoch 159/201\n",
      "200/200 [==============================] - 2s 8ms/step - loss: 0.2888\n",
      "Epoch 160/201\n",
      "200/200 [==============================] - 2s 8ms/step - loss: 0.4008\n",
      "Epoch 161/201\n",
      "200/200 [==============================] - 1s 7ms/step - loss: 0.3412\n",
      "Epoch 162/201\n",
      "200/200 [==============================] - 2s 8ms/step - loss: 0.3276\n",
      "Epoch 163/201\n",
      "200/200 [==============================] - 2s 8ms/step - loss: 0.3494\n",
      "Epoch 164/201\n",
      "200/200 [==============================] - 2s 8ms/step - loss: 0.2595\n",
      "Epoch 165/201\n",
      "200/200 [==============================] - 1s 7ms/step - loss: 0.2928\n",
      "Epoch 166/201\n",
      "200/200 [==============================] - 2s 8ms/step - loss: 0.3039\n",
      "Epoch 167/201\n",
      "200/200 [==============================] - 1s 7ms/step - loss: 0.2433\n",
      "Epoch 168/201\n",
      "200/200 [==============================] - 1s 7ms/step - loss: 0.2601\n",
      "Epoch 169/201\n",
      "200/200 [==============================] - 1s 7ms/step - loss: 0.3345\n",
      "Epoch 170/201\n",
      "200/200 [==============================] - 1s 7ms/step - loss: 0.2265\n",
      "Epoch 171/201\n",
      "200/200 [==============================] - 1s 7ms/step - loss: 0.2349\n",
      "Epoch 172/201\n",
      "200/200 [==============================] - 2s 8ms/step - loss: 0.2252\n",
      "Epoch 173/201\n",
      "200/200 [==============================] - 2s 8ms/step - loss: 0.2597\n",
      "Epoch 174/201\n",
      "200/200 [==============================] - 2s 8ms/step - loss: 0.2278\n",
      "Epoch 175/201\n",
      "200/200 [==============================] - 2s 8ms/step - loss: 0.2183\n",
      "Epoch 176/201\n",
      "200/200 [==============================] - 2s 8ms/step - loss: 0.2643\n",
      "Epoch 177/201\n",
      "200/200 [==============================] - 2s 8ms/step - loss: 0.2316\n",
      "Epoch 178/201\n",
      "200/200 [==============================] - 2s 8ms/step - loss: 0.2068\n",
      "Epoch 179/201\n",
      "200/200 [==============================] - 2s 8ms/step - loss: 0.1818\n",
      "Epoch 180/201\n",
      "200/200 [==============================] - 2s 8ms/step - loss: 0.1766\n",
      "Epoch 181/201\n",
      "200/200 [==============================] - 2s 8ms/step - loss: 0.2483\n",
      "Epoch 182/201\n",
      "200/200 [==============================] - 2s 8ms/step - loss: 0.1727\n",
      "Epoch 183/201\n",
      "200/200 [==============================] - 2s 8ms/step - loss: 0.1735\n",
      "Epoch 184/201\n",
      "200/200 [==============================] - 2s 8ms/step - loss: 0.2431\n",
      "Epoch 185/201\n",
      "200/200 [==============================] - 2s 9ms/step - loss: 0.2323\n",
      "Epoch 186/201\n",
      "200/200 [==============================] - 2s 9ms/step - loss: 0.2264\n",
      "Epoch 187/201\n",
      "200/200 [==============================] - 2s 8ms/step - loss: 0.1754\n",
      "Epoch 188/201\n",
      "200/200 [==============================] - 2s 8ms/step - loss: 0.1244\n",
      "Epoch 189/201\n",
      "200/200 [==============================] - 2s 8ms/step - loss: 0.1231\n",
      "Epoch 190/201\n",
      "200/200 [==============================] - 2s 8ms/step - loss: 0.1715\n",
      "Epoch 191/201\n",
      "200/200 [==============================] - 1s 7ms/step - loss: 0.1755\n",
      "Epoch 192/201\n",
      "200/200 [==============================] - 1s 7ms/step - loss: 0.1121\n",
      "Epoch 193/201\n",
      "200/200 [==============================] - 1s 7ms/step - loss: 0.1629\n",
      "Epoch 194/201\n",
      "200/200 [==============================] - 1s 7ms/step - loss: 0.1505\n",
      "Epoch 195/201\n",
      "200/200 [==============================] - 1s 7ms/step - loss: 0.1566\n",
      "Epoch 196/201\n",
      "200/200 [==============================] - 1s 7ms/step - loss: 0.1067\n",
      "Epoch 197/201\n",
      "200/200 [==============================] - 2s 8ms/step - loss: 0.1467\n",
      "Epoch 198/201\n",
      "200/200 [==============================] - 1s 7ms/step - loss: 0.1610\n",
      "Epoch 199/201\n",
      "200/200 [==============================] - 2s 8ms/step - loss: 0.1929\n",
      "Epoch 200/201\n",
      "200/200 [==============================] - 1s 7ms/step - loss: 0.1383\n",
      "Epoch 201/201\n",
      "200/200 [==============================] - 1s 7ms/step - loss: 0.1433\n"
     ]
    }
   ],
   "source": [
    "# history = siamese_model.fit(x=classifier_train_x, y=k.utils.to_categorical(classifier_train_y), shuffle=True, batch_size=1000,\n",
    "#                               validation_split=.1, epochs=n_epochs)\n",
    "\n",
    "history = siamese_model.fit_generator(batchGenerator, epochs=n_epochs, callbacks=callbacks)"
   ]
  },
  {
   "cell_type": "code",
   "execution_count": 0,
   "metadata": {
    "colab": {
     "base_uri": "https://localhost:8080/",
     "height": 287
    },
    "colab_type": "code",
    "id": "UzfZn_xnbSSS",
    "outputId": "4a9a7a87-4746-4eb0-be22-94b6e78f4634"
   },
   "outputs": [
    {
     "data": {
      "text/plain": [
       "[<matplotlib.lines.Line2D at 0x7f0063c4f4a8>]"
      ]
     },
     "execution_count": 23,
     "metadata": {
      "tags": []
     },
     "output_type": "execute_result"
    },
    {
     "data": {
      "image/png": "[encoded data removed]",
      "text/plain": [
       "<Figure size 432x288 with 1 Axes>"
      ]
     },
     "metadata": {
      "tags": []
     },
     "output_type": "display_data"
    }
   ],
   "source": [
    "plt.plot(history.history[\"loss\"], color=\"blue\")"
   ]
  },
  {
   "cell_type": "code",
   "execution_count": 0,
   "metadata": {
    "colab": {},
    "colab_type": "code",
    "id": "GqdS6VCd6gcU"
   },
   "outputs": [],
   "source": [
    "train_embeds = encoding_model.predict(train_x)"
   ]
  },
  {
   "cell_type": "code",
   "execution_count": 0,
   "metadata": {
    "colab": {},
    "colab_type": "code",
    "id": "a3Vwc7vP8Wbo"
   },
   "outputs": [],
   "source": [
    "target = np.squeeze(train_y)"
   ]
  },
  {
   "cell_type": "code",
   "execution_count": 0,
   "metadata": {
    "colab": {},
    "colab_type": "code",
    "id": "p8ZHvAx374zd"
   },
   "outputs": [],
   "source": [
    "from sklearn.neighbors import KNeighborsClassifier\n",
    "def fit_nearest_neighbor(img_encoding, img_class, algorithm='ball_tree'):\n",
    "  classifier = KNeighborsClassifier(n_neighbors=3, algorithm=algorithm)\n",
    "  classifier.fit(img_encoding, img_class)\n",
    "  return classifier"
   ]
  },
  {
   "cell_type": "code",
   "execution_count": 0,
   "metadata": {
    "colab": {},
    "colab_type": "code",
    "id": "rGSPnb9i8T_O"
   },
   "outputs": [],
   "source": [
    "classifier = fit_nearest_neighbor(train_embeds, target)"
   ]
  },
  {
   "cell_type": "code",
   "execution_count": 0,
   "metadata": {
    "colab": {},
    "colab_type": "code",
    "id": "WSaWvVOj8iEl"
   },
   "outputs": [],
   "source": [
    "e = encoding_model.predict(x_test_master)\n",
    "op = classifier.predict(e)"
   ]
  },
  {
   "cell_type": "code",
   "execution_count": 0,
   "metadata": {
    "colab": {
     "base_uri": "https://localhost:8080/",
     "height": 35
    },
    "colab_type": "code",
    "id": "rzmTDKWN8mSE",
    "outputId": "f212ec66-fa97-4d85-87d8-2821f2a5f628"
   },
   "outputs": [
    {
     "data": {
      "text/plain": [
       "0.8358"
      ]
     },
     "execution_count": 30,
     "metadata": {
      "tags": []
     },
     "output_type": "execute_result"
    }
   ],
   "source": [
    "(np.where(np.squeeze(y_test_master) == op))[0].shape[0] / y_test_master.shape[0]"
   ]
  }
 ],
 "metadata": {
  "accelerator": "GPU",
  "colab": {
   "collapsed_sections": [],
   "include_colab_link": true,
   "name": "SNN Tensorboard",
   "provenance": []
  },
  "kernelspec": {
   "display_name": "Python 3",
   "language": "python",
   "name": "python3"
  },
  "language_info": {
   "codemirror_mode": {
    "name": "ipython",
    "version": 3
   },
   "file_extension": ".py",
   "mimetype": "text/x-python",
   "name": "python",
   "nbconvert_exporter": "python",
   "pygments_lexer": "ipython3",
   "version": "3.8.8"
  }
 },
 "nbformat": 4,
 "nbformat_minor": 1
}
